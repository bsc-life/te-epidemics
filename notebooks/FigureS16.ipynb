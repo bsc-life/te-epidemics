{
 "cells": [
  {
   "cell_type": "code",
   "execution_count": null,
   "id": "0a56fe9a-905f-4a08-acdb-aa8f6a7fb3db",
   "metadata": {
    "ExecuteTime": {
     "end_time": "2024-06-19T08:32:26.226076Z",
     "start_time": "2024-06-19T08:32:25.017212Z"
    }
   },
   "outputs": [],
   "source": [
    "import os\n",
    "import sys\n",
    "import json\n",
    "import numpy as np\n",
    "import xarray as xr\n",
    "import pandas as pd\n",
    "import geopandas as gpd\n",
    "import seaborn as sns\n",
    "\n",
    "import matplotlib as mpl\n",
    "import matplotlib.dates as mdates\n",
    "import matplotlib.pyplot as plt\n",
    "\n",
    "sys.path.append(\"../python/\")\n",
    "\n",
    "from plotutils import *\n",
    "from metricutils import *"
   ]
  },
  {
   "cell_type": "code",
   "execution_count": null,
   "id": "1534fa26-dae5-477e-9efa-74cf5f408999",
   "metadata": {},
   "outputs": [],
   "source": [
    "project_root  = \"..\"\n",
    "\n",
    "base_folder = \"TE_abs_09\"\n",
    "base_folder = os.path.join(project_root, f\"outputs/{base_folder}\")\n",
    "\n",
    "geojson_fname  = \"../data/abs_09.geojson\"\n",
    "gdf_patches = gpd.read_file(geojson_fname)\n",
    "gdf_patches.set_index('id', inplace=True)\n",
    "\n",
    "prov_names=dict(zip(gdf_patches.index,gdf_patches.name))"
   ]
  },
  {
   "cell_type": "code",
   "execution_count": null,
   "id": "84955b3c",
   "metadata": {},
   "outputs": [],
   "source": [
    "# 1 - Regió sanitària RS11 Alt Pirineu i Aran\n",
    "# 2 - Regió sanitària RS12 Barcelona\n",
    "# 3 - Regió sanitària RS13 Camp de Tarragona\n",
    "# 4 - Regió sanitària RS14 Catalunya Central\n",
    "# 5 - Regió sanitària RS15 Girona\n",
    "# 6 - Regió sanitària RS16 Lleida\n",
    "# 7 - Regió sanitària RS17 Terres de l'Ebre\n",
    "\n",
    "reg_code = 2\n",
    "\n",
    "sectores = pd.read_csv(\"../data/sanitat.csv\")\n",
    "sel_dict = {}\n",
    "c = 0\n",
    "sel = []\n",
    "for index, row in sectores.iterrows():\n",
    "    if row.Nivell == \"Regió sanitària\":\n",
    "        if c > 0:\n",
    "            sel_dict[c] = sel\n",
    "        c += 1\n",
    "        sel = []\n",
    "    elif row.Nivell == \"Àrea bàsica salut\":\n",
    "        cod = row.Codi.zfill(3)\n",
    "        if cod in gdf_patches.index and cod not in [\"381\", \"379\", \"377\"]:\n",
    "            sel.append(cod)\n",
    "    else:\n",
    "        continue\n",
    "\n",
    "sel_dict[c] = sel\n",
    "sel_ids = sel_dict[reg_code]"
   ]
  },
  {
   "cell_type": "code",
   "execution_count": null,
   "id": "35d165c3",
   "metadata": {},
   "outputs": [],
   "source": [
    "best_delta = 7\n",
    "best_omega = 14\n",
    "print(best_delta, best_omega)\n",
    "\n",
    "te_folder = os.path.join(base_folder, f\"run_w{best_omega}_d{best_delta}_R_risk_ij/\")\n",
    "Txy = xr.load_dataarray(os.path.join(te_folder, \"TE.nc\"))\n",
    "DIxy = calculate_TSxy(Txy)\n",
    "\n",
    "params_fname = os.path.join(te_folder,\"params.json\")\n",
    "with open(params_fname) as fh:\n",
    "    params = json.load(fh)\n",
    "omega = params[\"te_params\"][\"omega\"]\n",
    "delta = params[\"te_params\"][\"delta\"]\n",
    "\n",
    "cases_ds = xr.open_dataset(os.path.join(base_folder, \"cases_pop_ds.nc\"))\n",
    "risk_ds = xr.open_dataset(os.path.join(base_folder, \"risk_ds.nc\"))\n",
    "cases_var = \"new_cases_by_100k\"\n",
    "\n",
    "df_cases = cases_ds[cases_var].to_pandas().unstack()\n",
    "df_cases.name = cases_var"
   ]
  },
  {
   "cell_type": "code",
   "execution_count": null,
   "id": "3b3ec2d8",
   "metadata": {},
   "outputs": [],
   "source": [
    "Txy_sel = Txy.loc[sel_ids, sel_ids, :]\n",
    "df_cases_sel = df_cases.loc[df_cases.index.get_level_values(1).isin(sel_ids)]\n",
    "\n",
    "fig = plot_heatmap_cases(Txy_sel, df_cases_sel, prov_names, sort_values=True, scale_values=True, linewidths=0, cmap=\"vlag\", top_x=50)\n",
    "plt.subplots_adjust(hspace=0.1, wspace=0.1)\n",
    "plt.savefig(\"../figures/supp/FigureS16.tiff\", dpi=300)"
   ]
  }
 ],
 "metadata": {
  "kernelspec": {
   "display_name": "venv",
   "language": "python",
   "name": "venv"
  },
  "language_info": {
   "codemirror_mode": {
    "name": "ipython",
    "version": 3
   },
   "file_extension": ".py",
   "mimetype": "text/x-python",
   "name": "python",
   "nbconvert_exporter": "python",
   "pygments_lexer": "ipython3",
   "version": "3.8.10"
  }
 },
 "nbformat": 4,
 "nbformat_minor": 5
}
