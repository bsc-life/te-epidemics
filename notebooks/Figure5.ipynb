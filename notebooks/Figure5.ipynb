{
 "cells": [
  {
   "cell_type": "code",
   "execution_count": null,
   "id": "d8043d96",
   "metadata": {
    "ExecuteTime": {
     "end_time": "2023-08-18T16:03:27.113360Z",
     "start_time": "2023-08-18T16:03:27.105745Z"
    }
   },
   "outputs": [],
   "source": [
    "import os, sys\n",
    "import glob\n",
    "import json\n",
    "import string\n",
    "\n",
    "import datetime as dt\n",
    "\n",
    "import numpy as np\n",
    "import xarray as xr\n",
    "import pandas as pd\n",
    "import networkx as nx\n",
    "\n",
    "import geopandas as gpd\n",
    "from shapely.affinity import affine_transform\n",
    "\n",
    "import seaborn as sns\n",
    "import matplotlib as mpl\n",
    "\n",
    "from matplotlib.patches import Rectangle\n",
    "import matplotlib.pyplot as plt\n",
    "\n",
    "project_root = os.path.abspath(os.pardir)\n",
    "python_path = os.path.join(project_root, \"python\")\n",
    "sys.path.append(python_path)\n",
    "\n",
    "from plotutils import *\n",
    "from metricutils import *"
   ]
  },
  {
   "cell_type": "code",
   "execution_count": null,
   "id": "d81ded78",
   "metadata": {
    "ExecuteTime": {
     "end_time": "2023-08-18T16:03:27.709380Z",
     "start_time": "2023-08-18T16:03:27.559429Z"
    }
   },
   "outputs": [],
   "source": [
    "# Custom parameters for the plots\n",
    "custom_params = {\"axes.spines.right\": False, \"axes.spines.top\": False}\n",
    "sns.set_theme(style=\"whitegrid\", palette=\"deep\", rc=custom_params)"
   ]
  },
  {
   "cell_type": "code",
   "execution_count": null,
   "id": "e59f0fb2",
   "metadata": {
    "ExecuteTime": {
     "end_time": "2023-08-18T16:03:27.938308Z",
     "start_time": "2023-08-18T16:03:27.716638Z"
    }
   },
   "outputs": [],
   "source": [
    "############################\n",
    "# Loading all the data need\n",
    "############################\n",
    "\n",
    "layer               = \"cnig_provincias\"\n",
    "run_id              = \"run_w14_d7_R_risk_ij\"\n",
    "experiments_folder  = \"../outputs/\"\n",
    "\n",
    "output_folder       = os.path.join(experiments_folder, f\"TE_{layer}/\")\n",
    "config_fname        = os.path.join(output_folder, \"config.json\")\n",
    "\n",
    "te_run_folder       = os.path.join(output_folder, run_id)\n",
    "te_output_fname     = os.path.join(te_run_folder, \"TE.nc\")\n",
    "te_params_fname     = os.path.join(te_run_folder, f\"params.json\")\n",
    "\n",
    "print(config_fname)\n",
    "with open(config_fname) as fh:\n",
    "    config = json.load(fh)\n",
    "\n",
    "\n",
    "population_ds_fname = config[\"cases_ds_fname\"]\n",
    "mobility_ds_fname  = config[\"risk_ds_fname\"]\n",
    "\n",
    "with open(te_params_fname) as fh:\n",
    "    te_params = json.load(fh)\n",
    "    te_params = te_params['te_params']\n",
    "\n",
    "Txy           = xr.load_dataarray(te_output_fname)\n",
    "TSxy          = calculate_net_TSxy(Txy)\n",
    "population_ds = xr.load_dataset(os.path.join(experiments_folder, f\"TE_{layer}/cases_pop_ds.nc\"))\n",
    "mobility_ds   = xr.load_dataset(os.path.join(experiments_folder, f\"TE_{layer}/risk_ds.nc\"))\n",
    "te_x_varname  = te_params[\"TE_x\"]\n",
    "te_y_varname  = te_params[\"TE_y\"]\n",
    "date_range    = Txy.coords['date'].values\n",
    "\n",
    "\n",
    "# Creating geopandas dataframe to plot the maps\n",
    "data_folder = os.path.join(project_root, config[\"data_folder\"])\n",
    "geojson_fname  = os.path.join(data_folder, f\"{layer}.geojson\")\n",
    "gdf_patches = gpd.read_file(geojson_fname)\n",
    "gdf_patches.set_index('id', inplace=True)\n",
    "gdf_patches['centroid'] = gdf_patches['geometry'].apply(lambda x: x.centroid)\n",
    "gdf_patches = gdf_patches[~gdf_patches.index.isin(config['filter_patches'])]\n",
    "gdf_patches = gdf_patches.sort_index()"
   ]
  },
  {
   "cell_type": "code",
   "execution_count": null,
   "id": "204476be",
   "metadata": {
    "ExecuteTime": {
     "end_time": "2023-08-18T16:03:31.968955Z",
     "start_time": "2023-08-18T16:03:28.193713Z"
    }
   },
   "outputs": [],
   "source": [
    "omega = 14\n",
    "n_dates = 6\n",
    "start = 123\n",
    "my_dates = np.array(range(start,start+omega*n_dates,omega))[[0,2,4]]\n",
    "my_dates2 = [date_range[i] for i in my_dates] # getting the proper dates\n",
    "\n",
    "cases = population_ds[\"new_cases_by_100k\"].to_pandas().unstack() #.rolling(14).mean().unstack()\n",
    "cases.name = \"Cases by 100 individuals\"\n",
    "cases_tab = cases.unstack()\n",
    "column = cases.name\n",
    "vmax = cases.loc[my_dates2].max()\n",
    "\n",
    "#cases_sel = cases.loc[cases.index.get_level_values(1).isin(sel_ids)]\n",
    "#Txy_sel = Txy.loc[sel_ids, sel_ids, :]\n",
    "\n",
    "fig, axes = plt.subplots(1, 3, figsize=(17, 7), dpi=300, sharex=True, sharey=True)\n",
    "fig.set_facecolor('white')\n",
    "i = 0\n",
    "for idx in my_dates:\n",
    "    # Merging the data column for a date in th geopandas dataframe\n",
    "    # to colour the regions (here using new_cases_by_100k)\n",
    "    date = date_range[idx]\n",
    "    data = cases.loc[date]\n",
    "    gdf = pd.merge(gdf_patches, data, left_index=True, right_index=True)\n",
    "    gdf = gdf[[column, 'geometry', 'centroid']].copy()\n",
    "    \n",
    "    d_star = date - np.timedelta64(te_params[\"omega\"],'D')\n",
    "    delta_cases =  cases_tab.loc[date] - cases_tab.loc[d_star]\n",
    "    \n",
    "    fil = TSxy.loc[:,:,date]\n",
    "    fil = fil.where(fil > 0)\n",
    "    fil = fil.quantile(0.95).values\n",
    "    \n",
    "    G = create_TSxy_network(Txy, data, date, thr_filter=fil)\n",
    "    \n",
    "    for (u,v) in G.edges:\n",
    "        if delta_cases[v] > 0:\n",
    "            G[u][v]['color'] = \"firebrick\"\n",
    "        elif delta_cases[v] < 0:\n",
    "            G[u][v]['color'] = \"green\"\n",
    "        else:\n",
    "            G[u][v]['color'] = \"white\"\n",
    "    \n",
    "    ax = axes[i]\n",
    "    ax.set_facecolor('white')\n",
    "    \n",
    "    plot_map_net(ax, gdf, G, data, column, date, layer, vmax=None)\n",
    "    ax.text(0.075, 1, string.ascii_uppercase[i], fontsize=18, \n",
    "            transform=ax.transAxes, weight='bold', color='#333333')\n",
    "    ax.text(0.3, 1, f\"from {str(date_range[idx-14])[:10]} to {str(date)[:10]}\", fontsize=14, \n",
    "            transform=ax.transAxes, color='grey')\n",
    "    i += 1\n",
    "\n",
    "fig.subplots_adjust(wspace=0, hspace=0)\n",
    "fig.tight_layout()\n",
    "\n",
    "cbar_ax = fig.add_axes([0.3, 0.05, 0.4, 0.8])\n",
    "cmap = sns.color_palette(\"Purples\", as_cmap=True)\n",
    "norm = mpl.colors.Normalize(vmin=0, vmax=vmax)\n",
    "cbar = fig.colorbar(mpl.cm.ScalarMappable(norm=norm, cmap=cmap), \n",
    "                    fraction=0.25, pad=0.05, ax=cbar_ax, orientation=\"horizontal\")\n",
    "\n",
    "cbar.set_label(\"Daily cases by 100k people\", loc='center')\n",
    "cbar_ax.set_axis_off()\n",
    "\n",
    "fig.savefig(\"../figures/main/Figure5.tiff\", dpi=300)"
   ]
  }
 ],
 "metadata": {
  "kernelspec": {
   "display_name": "venv",
   "language": "python",
   "name": "venv"
  },
  "language_info": {
   "codemirror_mode": {
    "name": "ipython",
    "version": 3
   },
   "file_extension": ".py",
   "mimetype": "text/x-python",
   "name": "python",
   "nbconvert_exporter": "python",
   "pygments_lexer": "ipython3",
   "version": "3.8.10"
  }
 },
 "nbformat": 4,
 "nbformat_minor": 5
}
