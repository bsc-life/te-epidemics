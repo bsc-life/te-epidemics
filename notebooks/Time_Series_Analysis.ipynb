{
 "cells": [
  {
   "cell_type": "code",
   "execution_count": 74,
   "id": "2bbf9ab0",
   "metadata": {
    "ExecuteTime": {
     "end_time": "2024-10-07T14:04:37.843197Z",
     "start_time": "2024-10-07T14:04:37.726710Z"
    }
   },
   "outputs": [],
   "source": [
    "import os\n",
    "import numpy as np\n",
    "import pandas as pd\n",
    "import xarray as xr\n",
    "import seaborn as sns\n",
    "import matplotlib.pyplot as plt\n",
    "from statsmodels.tsa.stattools import adfuller\n"
   ]
  },
  {
   "cell_type": "code",
   "execution_count": 75,
   "id": "13e0895b-f92c-4378-ae57-be60161e1f5b",
   "metadata": {},
   "outputs": [],
   "source": [
    "base_folder = \"../outputs/TE_cnig_provincias/\"\n",
    "cases_fname = os.path.join(base_folder, \"cases_pop_ds.nc\")\n",
    "risk_ij_fname = os.path.join(base_folder, \"risk_ds.nc\")\n",
    "\n",
    "cases_ds = xr.load_dataset(cases_fname)\n",
    "risk_ds = xr.load_dataset(risk_ij_fname)\n",
    "\n",
    "risk_ij = risk_ds['risk_ij']\n",
    "trips_ij = risk_ds['trips_ij']\n",
    "\n",
    "risk_ij_dt = risk_ij.diff('date')\n",
    "trips_ij_dt = trips_ij.diff('date')\n",
    "\n",
    "cases_by_100k = cases_ds['new_cases_by_100k']\n",
    "cases_by_100k_dt = cases_by_100k.diff('date')\n",
    "\n",
    "dates = risk_ij_dt.coords['date']"
   ]
  },
  {
   "cell_type": "markdown",
   "id": "3a842918-de9b-4a64-a3b1-44ac2c3f15ac",
   "metadata": {},
   "source": [
    "## Testing for time series stationarirty\n",
    "\n",
    "ADF is applied to each time serie $R_{i,j}(t)$ and $C_i(t)$ after applying first order differences on the time-series\n",
    "\n",
    "Performing an augmented Dickey-Fuller test, with the following hypotheses:\n",
    "* H0: The time series is non-stationary. In other words, it has some time-dependent structure and does not have constant variance over time.\n",
    "* HA: The time series is stationary.\n",
    "\n"
   ]
  },
  {
   "cell_type": "code",
   "execution_count": 78,
   "id": "fae4546f-0123-46ca-a310-0088c1ae9a60",
   "metadata": {},
   "outputs": [],
   "source": [
    "source = \"28\"\n",
    "target = \"33\"\n",
    "\n",
    "X = risk_ij_dt.loc[source, target, :].to_pandas()\n",
    "Y = cases_by_100k_dt.loc[target, :].to_pandas()\n",
    "\n",
    "provinces = cases_by_100k_dt.coords['id'].values\n",
    "\n",
    "Rij_adf_p_vals = []\n",
    "thr = 0.05\n",
    "for x in provinces:\n",
    "    for y in provinces:\n",
    "        if x == y:\n",
    "            continue\n",
    "        result = adfuller(risk_ij.loc[x,y,:].values)\n",
    "        pvalue = result[1]\n",
    "        result_dt = adfuller(risk_ij_dt.loc[x,y,:].values)\n",
    "        pvalue_dt = result_dt[1]\n",
    "        Rij_adf_p_vals.append((x, y, pvalue, pvalue_dt))\n",
    "\n",
    "\n",
    "df_Rij_ADF_p_vals = pd.DataFrame(data=Rij_adf_p_vals, columns=['source', 'target', 'pval', 'pval_dt'])"
   ]
  },
  {
   "cell_type": "code",
   "execution_count": 80,
   "id": "75649eda-f577-4533-9893-cfe8499c0f02",
   "metadata": {},
   "outputs": [],
   "source": [
    "cases_adf_p_vals = []\n",
    "thr = 0.05\n",
    "for x in provinces:\n",
    "    result = adfuller(cases_by_100k.loc[x,:].values)\n",
    "    pvalue = result[1]\n",
    "\n",
    "    result_dt = adfuller(cases_by_100k_dt.loc[x,:].values)\n",
    "    pvalue_dt = result_dt[1]\n",
    "    cases_adf_p_vals.append((x, pvalue, pvalue_dt))\n",
    "\n",
    "df_cases_ADF_p_vals = pd.DataFrame(data=cases_adf_p_vals, columns=['source', 'pval', 'pval_dt'])"
   ]
  },
  {
   "cell_type": "code",
   "execution_count": 21,
   "id": "8247ee90-7759-49c6-b8ef-ed24e398a8a3",
   "metadata": {},
   "outputs": [],
   "source": []
  },
  {
   "cell_type": "code",
   "execution_count": 5,
   "id": "43c84166-47a3-4cf7-95a5-b4f2824463db",
   "metadata": {},
   "outputs": [
    {
     "name": "stdout",
     "output_type": "stream",
     "text": [
      "TE  28 -> 33 0.0435266602474553\n",
      "ETE 28 -> 33 0.01845166090837158\n",
      "\n",
      "TE  33 -> 28 0.0\n",
      "ETE 33 -> 28 0.0\n"
     ]
    }
   ],
   "source": [
    "source = \"28\"\n",
    "target = \"19\"\n",
    "\n",
    "source = \"08\"\n",
    "target = \"07\"\n",
    "\n",
    "source = \"28\"\n",
    "target = \"33\"\n",
    "\n",
    "data = risk_ij_dt.values.flatten()\n",
    "bins = np.quantile(data, [0.001, 0.05, 0.95, 0.999])\n",
    "bins = np.quantile(data, [0.1, 0.2, 0.8, 0.9])\n",
    "bins = [-2,-1,1,2]\n",
    "X_risk_ij_dt = xr.apply_ufunc(my_digitize, risk_ij_dt, bins)\n",
    "\n",
    "data = cases_by_100k_dt.values.flatten()\n",
    "bins = np.quantile(data, [0.001, 0.2, 0.8, 0.999])\n",
    "bins = np.quantile(data, [0.1, 0.2, 0.8, 0.9])\n",
    "bins = [-2,-1,1,2]\n",
    "Y_cases_by_100k_dt = xr.apply_ufunc(my_digitize, cases_by_100k_dt, bins)\n",
    "\n",
    "d = 28\n",
    "X = X_risk_ij_dt.loc[source, target, :].to_pandas()\n",
    "Y = Y_cases_by_100k_dt.loc[target, :].to_pandas()\n",
    "X = X[:-d]\n",
    "Y = Y[d:]\n",
    "print(f\"TE  {source} -> {target}\", transfer_entropy(X.values, Y.values, k=1))\n",
    "print(f\"ETE {source} -> {target}\", effective_transfer_entropy(X.values, Y.values))\n",
    "\n",
    "print()\n",
    "\n",
    "X = X_risk_ij_dt.loc[target, source, :].to_pandas()\n",
    "Y = Y_cases_by_100k_dt.loc[source, :].to_pandas()\n",
    "X = X[:-d]\n",
    "Y = Y[d:]\n",
    "print(f\"TE  {target} -> {source}\", transfer_entropy(X.values, Y.values, k=1))\n",
    "print(f\"ETE {target} -> {source}\", effective_transfer_entropy(X.values, Y.values))"
   ]
  },
  {
   "cell_type": "code",
   "execution_count": 68,
   "id": "d0e20cc0-a874-49a4-b4ef-1858da78da52",
   "metadata": {},
   "outputs": [
    {
     "name": "stdout",
     "output_type": "stream",
     "text": [
      "TE  28 -> 33 0.0\n",
      "ETE 28 -> 33 0.0\n",
      "TE  33 -> 28 0.0\n",
      "ETE 33 -> 28 0.0\n"
     ]
    }
   ],
   "source": []
  },
  {
   "cell_type": "code",
   "execution_count": 65,
   "id": "7b070833-7043-4503-a2d1-09de5dc2e009",
   "metadata": {},
   "outputs": [
    {
     "ename": "ValueError",
     "evalue": "x and y must have same first dimension, but have shapes (407,) and (448,)",
     "output_type": "error",
     "traceback": [
      "\u001b[0;31m---------------------------------------------------------------------------\u001b[0m",
      "\u001b[0;31mValueError\u001b[0m                                Traceback (most recent call last)",
      "Cell \u001b[0;32mIn[65], line 5\u001b[0m\n\u001b[1;32m      3\u001b[0m ax\u001b[38;5;241m.\u001b[39mplot(risk_ij_dt\u001b[38;5;241m.\u001b[39mloc[source, target, TE_dates]\u001b[38;5;241m.\u001b[39mto_pandas())\n\u001b[1;32m      4\u001b[0m ax \u001b[38;5;241m=\u001b[39m ax\u001b[38;5;241m.\u001b[39mtwinx()\n\u001b[0;32m----> 5\u001b[0m \u001b[43max\u001b[49m\u001b[38;5;241;43m.\u001b[39;49m\u001b[43mplot\u001b[49m\u001b[43m(\u001b[49m\u001b[43mTE_dates\u001b[49m\u001b[43m,\u001b[49m\u001b[43m \u001b[49m\u001b[43mX_ij\u001b[49m\u001b[43m)\u001b[49m\n\u001b[1;32m      6\u001b[0m \u001b[38;5;66;03m# axes[0].plot(risk_ij.loc[target, source, TE_dates].to_pandas(), c='r')\u001b[39;00m\n\u001b[1;32m      7\u001b[0m \n\u001b[1;32m      8\u001b[0m \u001b[38;5;66;03m# axes[1].plot(cases_by_100k.loc[source, TE_dates].to_pandas())\u001b[39;00m\n\u001b[1;32m      9\u001b[0m ax \u001b[38;5;241m=\u001b[39m axes[\u001b[38;5;241m1\u001b[39m]\n",
      "File \u001b[0;32m~/Research/Drafts/te-epidemics-review/te-epidemics/venv/lib/python3.10/site-packages/matplotlib/axes/_axes.py:1668\u001b[0m, in \u001b[0;36mAxes.plot\u001b[0;34m(self, scalex, scaley, data, *args, **kwargs)\u001b[0m\n\u001b[1;32m   1425\u001b[0m \u001b[38;5;250m\u001b[39m\u001b[38;5;124;03m\"\"\"\u001b[39;00m\n\u001b[1;32m   1426\u001b[0m \u001b[38;5;124;03mPlot y versus x as lines and/or markers.\u001b[39;00m\n\u001b[1;32m   1427\u001b[0m \n\u001b[0;32m   (...)\u001b[0m\n\u001b[1;32m   1665\u001b[0m \u001b[38;5;124;03m(``'green'``) or hex strings (``'#008000'``).\u001b[39;00m\n\u001b[1;32m   1666\u001b[0m \u001b[38;5;124;03m\"\"\"\u001b[39;00m\n\u001b[1;32m   1667\u001b[0m kwargs \u001b[38;5;241m=\u001b[39m cbook\u001b[38;5;241m.\u001b[39mnormalize_kwargs(kwargs, mlines\u001b[38;5;241m.\u001b[39mLine2D)\n\u001b[0;32m-> 1668\u001b[0m lines \u001b[38;5;241m=\u001b[39m [\u001b[38;5;241m*\u001b[39m\u001b[38;5;28mself\u001b[39m\u001b[38;5;241m.\u001b[39m_get_lines(\u001b[38;5;241m*\u001b[39margs, data\u001b[38;5;241m=\u001b[39mdata, \u001b[38;5;241m*\u001b[39m\u001b[38;5;241m*\u001b[39mkwargs)]\n\u001b[1;32m   1669\u001b[0m \u001b[38;5;28;01mfor\u001b[39;00m line \u001b[38;5;129;01min\u001b[39;00m lines:\n\u001b[1;32m   1670\u001b[0m     \u001b[38;5;28mself\u001b[39m\u001b[38;5;241m.\u001b[39madd_line(line)\n",
      "File \u001b[0;32m~/Research/Drafts/te-epidemics-review/te-epidemics/venv/lib/python3.10/site-packages/matplotlib/axes/_base.py:311\u001b[0m, in \u001b[0;36m_process_plot_var_args.__call__\u001b[0;34m(self, data, *args, **kwargs)\u001b[0m\n\u001b[1;32m    309\u001b[0m     this \u001b[38;5;241m+\u001b[39m\u001b[38;5;241m=\u001b[39m args[\u001b[38;5;241m0\u001b[39m],\n\u001b[1;32m    310\u001b[0m     args \u001b[38;5;241m=\u001b[39m args[\u001b[38;5;241m1\u001b[39m:]\n\u001b[0;32m--> 311\u001b[0m \u001b[38;5;28;01myield from\u001b[39;00m \u001b[38;5;28;43mself\u001b[39;49m\u001b[38;5;241;43m.\u001b[39;49m\u001b[43m_plot_args\u001b[49m\u001b[43m(\u001b[49m\n\u001b[1;32m    312\u001b[0m \u001b[43m    \u001b[49m\u001b[43mthis\u001b[49m\u001b[43m,\u001b[49m\u001b[43m \u001b[49m\u001b[43mkwargs\u001b[49m\u001b[43m,\u001b[49m\u001b[43m \u001b[49m\u001b[43mambiguous_fmt_datakey\u001b[49m\u001b[38;5;241;43m=\u001b[39;49m\u001b[43mambiguous_fmt_datakey\u001b[49m\u001b[43m)\u001b[49m\n",
      "File \u001b[0;32m~/Research/Drafts/te-epidemics-review/te-epidemics/venv/lib/python3.10/site-packages/matplotlib/axes/_base.py:504\u001b[0m, in \u001b[0;36m_process_plot_var_args._plot_args\u001b[0;34m(self, tup, kwargs, return_kwargs, ambiguous_fmt_datakey)\u001b[0m\n\u001b[1;32m    501\u001b[0m     \u001b[38;5;28mself\u001b[39m\u001b[38;5;241m.\u001b[39maxes\u001b[38;5;241m.\u001b[39myaxis\u001b[38;5;241m.\u001b[39mupdate_units(y)\n\u001b[1;32m    503\u001b[0m \u001b[38;5;28;01mif\u001b[39;00m x\u001b[38;5;241m.\u001b[39mshape[\u001b[38;5;241m0\u001b[39m] \u001b[38;5;241m!=\u001b[39m y\u001b[38;5;241m.\u001b[39mshape[\u001b[38;5;241m0\u001b[39m]:\n\u001b[0;32m--> 504\u001b[0m     \u001b[38;5;28;01mraise\u001b[39;00m \u001b[38;5;167;01mValueError\u001b[39;00m(\u001b[38;5;124mf\u001b[39m\u001b[38;5;124m\"\u001b[39m\u001b[38;5;124mx and y must have same first dimension, but \u001b[39m\u001b[38;5;124m\"\u001b[39m\n\u001b[1;32m    505\u001b[0m                      \u001b[38;5;124mf\u001b[39m\u001b[38;5;124m\"\u001b[39m\u001b[38;5;124mhave shapes \u001b[39m\u001b[38;5;132;01m{\u001b[39;00mx\u001b[38;5;241m.\u001b[39mshape\u001b[38;5;132;01m}\u001b[39;00m\u001b[38;5;124m and \u001b[39m\u001b[38;5;132;01m{\u001b[39;00my\u001b[38;5;241m.\u001b[39mshape\u001b[38;5;132;01m}\u001b[39;00m\u001b[38;5;124m\"\u001b[39m)\n\u001b[1;32m    506\u001b[0m \u001b[38;5;28;01mif\u001b[39;00m x\u001b[38;5;241m.\u001b[39mndim \u001b[38;5;241m>\u001b[39m \u001b[38;5;241m2\u001b[39m \u001b[38;5;129;01mor\u001b[39;00m y\u001b[38;5;241m.\u001b[39mndim \u001b[38;5;241m>\u001b[39m \u001b[38;5;241m2\u001b[39m:\n\u001b[1;32m    507\u001b[0m     \u001b[38;5;28;01mraise\u001b[39;00m \u001b[38;5;167;01mValueError\u001b[39;00m(\u001b[38;5;124mf\u001b[39m\u001b[38;5;124m\"\u001b[39m\u001b[38;5;124mx and y can be no greater than 2D, but have \u001b[39m\u001b[38;5;124m\"\u001b[39m\n\u001b[1;32m    508\u001b[0m                      \u001b[38;5;124mf\u001b[39m\u001b[38;5;124m\"\u001b[39m\u001b[38;5;124mshapes \u001b[39m\u001b[38;5;132;01m{\u001b[39;00mx\u001b[38;5;241m.\u001b[39mshape\u001b[38;5;132;01m}\u001b[39;00m\u001b[38;5;124m and \u001b[39m\u001b[38;5;132;01m{\u001b[39;00my\u001b[38;5;241m.\u001b[39mshape\u001b[38;5;132;01m}\u001b[39;00m\u001b[38;5;124m\"\u001b[39m)\n",
      "\u001b[0;31mValueError\u001b[0m: x and y must have same first dimension, but have shapes (407,) and (448,)"
     ]
    },
    {
     "data": {
      "image/png": "[encoded data removed]",
      "text/plain": [
       "<Figure size 1400x600 with 4 Axes>"
      ]
     },
     "metadata": {},
     "output_type": "display_data"
    }
   ],
   "source": []
  },
  {
   "cell_type": "code",
   "execution_count": 8,
   "id": "b5caaeef-298c-41de-8d3a-dd990524173e",
   "metadata": {},
   "outputs": [],
   "source": [
    "# Discretize based on quantiles\n",
    "def kde_quantile_discretization(arr, n_quantiles=5):\n",
    "    discretizer = KBinsDiscretizer(n_bins=n_quantiles, encode='ordinal', strategy='quantile')\n",
    "    quantile_indices = discretizer.fit_transform(arr.reshape(-1, 1)).astype(int)\n",
    "    return quantile_indices.ravel()\n",
    "\n",
    "# X_enc = kde_quantile_discretization(X, n_quantiles=5)\n",
    "\n",
    "# Apply the function across the last dimension\n",
    "# discretized_data = xr.apply_ufunc(kde_quantile_discretization,\n",
    "#                                   ds,\n",
    "#                                   input_core_dims=[['dim_2']],\n",
    "#                                   kwargs={'n_quantiles': 10},  # Set quantile number here\n",
    "#                                   vectorize=True)\n",
    "\n"
   ]
  },
  {
   "cell_type": "code",
   "execution_count": 17,
   "id": "75da1ac8-46df-438f-9bb8-fc0f6fc0168a",
   "metadata": {},
   "outputs": [
    {
     "name": "stdout",
     "output_type": "stream",
     "text": [
      "0\n",
      "0\n"
     ]
    },
    {
     "data": {
      "text/plain": [
       "array([0.        , 0.        , 0.        , 0.        , 0.        ,\n",
       "       0.        , 0.        , 0.        , 0.        , 0.        ,\n",
       "       0.        , 0.        , 0.        , 0.        , 0.        ,\n",
       "       0.        , 0.        , 0.        , 0.        , 0.        ,\n",
       "       0.        , 0.        , 0.        , 0.        , 0.        ,\n",
       "       0.        , 0.        , 0.        , 0.        , 0.        ,\n",
       "       0.        , 0.        , 0.        , 0.        , 0.        ,\n",
       "       0.        , 0.        , 0.        , 0.        , 0.        ,\n",
       "       0.        , 0.        , 0.        , 0.        , 0.        ,\n",
       "       0.        , 0.        , 0.        , 0.        , 0.        ,\n",
       "       0.        , 0.        , 0.        , 0.        , 0.        ,\n",
       "       0.        , 0.        , 0.        , 0.        , 0.        ,\n",
       "       0.        , 0.        , 0.        , 0.        , 0.        ,\n",
       "       0.        , 0.        , 0.        , 0.        , 0.        ,\n",
       "       0.        , 0.        , 0.        , 0.        , 0.        ,\n",
       "       0.        , 0.        , 0.        , 0.        , 0.        ,\n",
       "       0.        , 0.        , 0.        , 0.        , 0.        ,\n",
       "       0.        , 0.        , 0.        , 0.        , 0.        ,\n",
       "       0.        , 0.        , 0.        , 0.        , 0.        ,\n",
       "       0.        , 0.        , 0.        , 0.        , 0.        ,\n",
       "       0.        , 0.        , 0.        , 0.        , 0.        ,\n",
       "       0.        , 0.        , 0.        , 0.        , 0.        ,\n",
       "       0.        , 0.        , 0.        , 0.        , 0.        ,\n",
       "       0.        , 0.        , 0.        , 0.        , 0.        ,\n",
       "       0.        , 0.        , 0.        , 0.        , 0.        ,\n",
       "       0.        , 0.        , 0.        , 0.        , 0.        ,\n",
       "       0.        , 0.        , 0.        , 0.        , 0.        ,\n",
       "       0.        , 0.        , 0.        , 0.        , 0.        ,\n",
       "       0.        , 0.        , 0.        , 0.        , 0.        ,\n",
       "       0.        , 0.        , 0.        , 0.        , 0.        ,\n",
       "       0.        , 0.        , 0.        , 0.        , 0.        ,\n",
       "       0.        , 0.        , 0.        , 0.        , 0.        ,\n",
       "       0.        , 0.        , 0.        , 0.        , 0.        ,\n",
       "       0.        , 0.        , 0.        , 0.        , 0.        ,\n",
       "       0.        , 0.        , 0.        , 0.        , 0.        ,\n",
       "       0.        , 0.        , 0.        , 0.        , 0.        ,\n",
       "       0.        , 0.        , 0.        , 0.        , 0.        ,\n",
       "       0.        , 0.        , 0.        , 0.        , 0.        ,\n",
       "       0.        , 0.        , 0.03592717, 0.03512537, 0.03510187,\n",
       "       0.03614434, 0.03842975, 0.03461024, 0.02882329, 0.        ,\n",
       "       0.        , 0.        , 0.        , 0.00935328, 0.        ,\n",
       "       0.        , 0.        , 0.        , 0.        , 0.        ,\n",
       "       0.        , 0.        , 0.        , 0.01243888, 0.01183509,\n",
       "       0.03718782, 0.03207469, 0.03523189, 0.10468236, 0.0170453 ,\n",
       "       0.02894369, 0.0235786 , 0.01688897, 0.01686914, 0.01143779,\n",
       "       0.01924874, 0.01178977, 0.0133018 , 0.0145313 , 0.        ,\n",
       "       0.0067217 , 0.        , 0.        , 0.        , 0.        ,\n",
       "       0.        , 0.        , 0.        , 0.        , 0.        ,\n",
       "       0.        , 0.        , 0.        , 0.        , 0.        ,\n",
       "       0.        , 0.        , 0.        , 0.        , 0.        ,\n",
       "       0.        , 0.        , 0.        , 0.        , 0.        ,\n",
       "       0.        , 0.        , 0.        , 0.        , 0.        ,\n",
       "       0.        , 0.        , 0.        , 0.        , 0.        ,\n",
       "       0.        , 0.        , 0.        , 0.        , 0.        ,\n",
       "       0.        , 0.        , 0.        , 0.        , 0.        ,\n",
       "       0.        , 0.        , 0.        , 0.        , 0.        ,\n",
       "       0.        , 0.        , 0.        , 0.        , 0.        ,\n",
       "       0.        , 0.        , 0.        , 0.        , 0.        ,\n",
       "       0.        , 0.        , 0.        , 0.        , 0.        ,\n",
       "       0.        , 0.        , 0.        , 0.        , 0.        ,\n",
       "       0.        , 0.        , 0.        , 0.        , 0.        ,\n",
       "       0.        , 0.        , 0.        , 0.        , 0.        ,\n",
       "       0.00275078, 0.        , 0.        , 0.        , 0.        ,\n",
       "       0.        , 0.        , 0.        , 0.        , 0.        ,\n",
       "       0.        , 0.        , 0.        , 0.        , 0.        ,\n",
       "       0.        , 0.        , 0.        , 0.        , 0.01689375,\n",
       "       0.        , 0.        , 0.        , 0.        , 0.        ,\n",
       "       0.        , 0.        , 0.        , 0.        , 0.        ,\n",
       "       0.        , 0.        , 0.        , 0.        , 0.        ,\n",
       "       0.        , 0.        , 0.        , 0.        , 0.        ,\n",
       "       0.        , 0.        , 0.        , 0.        , 0.        ,\n",
       "       0.        , 0.        , 0.        , 0.        , 0.        ,\n",
       "       0.        , 0.        , 0.        , 0.        , 0.        ,\n",
       "       0.        , 0.        , 0.        , 0.        , 0.        ,\n",
       "       0.        , 0.        , 0.        , 0.        , 0.        ,\n",
       "       0.        , 0.        , 0.        , 0.        , 0.        ,\n",
       "       0.        , 0.        , 0.        , 0.        , 0.        ,\n",
       "       0.        , 0.        , 0.        , 0.        , 0.        ,\n",
       "       0.        , 0.        , 0.        , 0.        , 0.        ,\n",
       "       0.        , 0.        , 0.        , 0.        , 0.        ,\n",
       "       0.        , 0.        , 0.        , 0.        , 0.        ,\n",
       "       0.        , 0.        ])"
      ]
     },
     "execution_count": 17,
     "metadata": {},
     "output_type": "execute_result"
    }
   ],
   "source": [
    "XX = xr.load_dataarray(\"../outputs/TE_cnig_provincias/run_ETE_w28_d14_S_Q1_-1_Q2_1_risk_ij/X.nc\")\n",
    "YY = xr.load_dataarray(\"../outputs/TE_cnig_provincias/run_ETE_w28_d14_S_Q1_-1_Q2_1_risk_ij/Y.nc\")\n",
    "\n",
    "A = XX.loc[source, target, :].values\n",
    "B = X_risk_ij_dt.loc[source, target, :].values\n",
    "print((A != B).sum())\n",
    "\n",
    "A = YY.loc[target, :].values\n",
    "B = Y_cases_by_100k_dt.loc[target, :].values\n",
    "print((A != B).sum())\n",
    "\n",
    "\n",
    "TE = xr.load_dataarray(\"../outputs/TE_cnig_provincias/run_ETE_w28_d14_S_Q1_-1_Q2_1_risk_ij/TE.nc\")\n",
    "\n",
    "# TE.loc[source, target, :].values\n",
    "\n",
    "TE_xy"
   ]
  },
  {
   "cell_type": "code",
   "execution_count": 10,
   "id": "7ee8b5aa-cf98-487d-90f5-a3ad2376b35a",
   "metadata": {},
   "outputs": [
    {
     "name": "stdout",
     "output_type": "stream",
     "text": [
      "TE  28 -> 33 0.022727318412447302\n",
      "ETE 28 -> 33 0.009798964154141923\n",
      "TE  33 -> 28 0.0\n",
      "ETE 33 -> 28 0.0\n"
     ]
    }
   ],
   "source": [
    "X = XX.loc[source, target, :].to_pandas().values\n",
    "Y = YY.loc[target, :].to_pandas().values\n",
    "print(f\"TE  {source} -> {target}\", transfer_entropy(X[:-omega], Y[omega:], k=1))\n",
    "print(f\"ETE {source} -> {target}\", effective_transfer_entropy(X[:-omega], Y[omega:]))\n",
    "\n",
    "TE_xy = calculate_te(X, Y, omega=omega, delta=delta, ETE=use_ETE)\n",
    "TE_xy[TE_xy<0] = 0\n",
    "\n",
    "X = XX.loc[target, source, :].to_pandas().values\n",
    "Y = YY.loc[source, :].to_pandas().values\n",
    "print(f\"TE  {target} -> {source}\", transfer_entropy(X[:-omega], Y[omega:], k=1))\n",
    "print(f\"ETE {target} -> {source}\", effective_transfer_entropy(X[:-omega], Y[omega:]))\n",
    "\n",
    "TE_yx = calculate_te(X, Y, omega=omega, delta=delta, ETE=use_ETE)\n",
    "TE_yx[TE_yx<0] = 0\n",
    "\n",
    "# start = int(omega)\n",
    "# TE_dates = dates[start:]\n",
    "# end = min(len(TE_dates), TE_xy.shape[0])\n",
    "# TE_dates = TE_dates[:end]\n",
    "\n",
    "\n",
    "# fig, axes = plt.subplots(3, 1, figsize=(14,6), sharex=True)\n",
    "# axes[0].plot(risk_ij.loc[source, target, TE_dates].to_pandas())\n",
    "# axes[0].plot(risk_ij.loc[target, source, TE_dates].to_pandas(), c='r')\n",
    "\n",
    "# axes[1].plot(cases_by_100k.loc[source, TE_dates].to_pandas())\n",
    "# axes[1].plot(cases_by_100k.loc[target, TE_dates].to_pandas(), c='r')\n",
    "\n",
    "\n",
    "# DIxy = TE_xy - TE_yx\n",
    "# # DIxy[np.abs(DIxy) < 1e-4] = 0\n",
    "# axes[2].plot(TE_dates, DIxy)\n",
    "\n",
    "# plt.show()"
   ]
  }
 ],
 "metadata": {
  "kernelspec": {
   "display_name": "Python 3 (ipykernel)",
   "language": "python",
   "name": "python3"
  },
  "language_info": {
   "codemirror_mode": {
    "name": "ipython",
    "version": 3
   },
   "file_extension": ".py",
   "mimetype": "text/x-python",
   "name": "python",
   "nbconvert_exporter": "python",
   "pygments_lexer": "ipython3",
   "version": "3.10.12"
  }
 },
 "nbformat": 4,
 "nbformat_minor": 5
}
